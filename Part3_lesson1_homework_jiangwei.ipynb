{
 "cells": [
  {
   "cell_type": "code",
   "execution_count": null,
   "metadata": {},
   "outputs": [],
   "source": [
    "import matplotlib.pyplot as plt\n",
    "import numpy as np  \n",
    "import pandas as pd\n",
    "\n",
    "#构造分类标签函数，输入数据点，返回标签\n",
    "def classfer(x,y):    \n",
    "    data = [[1,1,2],[0.4,5.2,1],[-2.8,-1.1,2],[3.2,1.4,1],[-1.3,3.2,1],[-3,3.1,2]]\n",
    "    label = [x[2] for x in data ]                                         # 取出标签数据\n",
    "    dis = list(map(lambda x1: ((x1[0]-x)**2+(x1[1]-y)**2)**.5 , data) )   # 计算新增点到各点距离    \n",
    "    dis_label = [(dis[i],label[i]) for i in range(len(dis))]              # 构造距离和标签组合的数列\n",
    "    mark_label = sorted(dis_label,key=lambda a:a[0])                      # 对距离标签数列按照距离排序\n",
    "    return mark_label[0][1]                                               # 返回距离最近的标签\n",
    "\n",
    "#标签点\n",
    "data = [[1,1,2],[0.4,5.2,1],[-2.8,-1.1,2],[3.2,1.4,1],[-1.3,3.2,1],[-3,3.1,2]]\n",
    "df = pd.DataFrame(data,columns=['x1','x2','y'])             # 将数值转换为DataFrame格式\n",
    "print(\"原始标签数据：\")\n",
    "print(df)\n",
    "\n",
    "#待标签点：\n",
    "x_data = [[-2.6,6.6],[1.4,1.6] ,[-2.5,1.2]]\n",
    "x_label = [ classfer(x[0],x[1]) for x in x_data]            # 对新增点进行分类标注\n",
    "x_result = [[x_data[i][0],x_data[i][1],x_label[i]] for i in range(len(x_data))]  # 构造数据及标签的数列\n",
    "df = pd.DataFrame(x_result,columns=['x1','x2','y'])         # 将数值转换为DataFrame格式\n",
    "print(\"新增点标注结果：\")\n",
    "print(df)"
   ]
  },
  {
   "cell_type": "code",
   "execution_count": null,
   "metadata": {},
   "outputs": [],
   "source": []
  }
 ],
 "metadata": {
  "kernelspec": {
   "display_name": "Python 3",
   "language": "python",
   "name": "python3"
  },
  "language_info": {
   "codemirror_mode": {
    "name": "ipython",
    "version": 3
   },
   "file_extension": ".py",
   "mimetype": "text/x-python",
   "name": "python",
   "nbconvert_exporter": "python",
   "pygments_lexer": "ipython3",
   "version": "3.7.4"
  }
 },
 "nbformat": 4,
 "nbformat_minor": 2
}
