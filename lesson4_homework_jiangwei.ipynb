{
 "cells": [
  {
   "cell_type": "code",
   "execution_count": null,
   "metadata": {},
   "outputs": [],
   "source": [
    "#1.python中可以使用import导入哪些对象？\n",
    "#答：可以导入Python的任何对像，而这些对象都以模块（module）或包（Package）的形式存在，或存在于其中。"
   ]
  },
  {
   "cell_type": "code",
   "execution_count": null,
   "metadata": {},
   "outputs": [],
   "source": [
    "#2.机器学习和函数/模块的思想有哪些异同？\n",
    "#答：机器学习和函数/模块本质是一样的，都是函数。模块可以包含一系列相关或相似的函数。"
   ]
  },
  {
   "cell_type": "code",
   "execution_count": 1,
   "metadata": {},
   "outputs": [
    {
     "name": "stdout",
     "output_type": "stream",
     "text": [
      "顺利完成安装\n"
     ]
    }
   ],
   "source": [
    "#3.安装 numpy, matplotlib,sklearn包, 并测试是否安装完成\n",
    "import numpy as np\n",
    "import matplotlib \n",
    "import sklearn\n",
    "print(\"顺利完成安装\")"
   ]
  },
  {
   "cell_type": "code",
   "execution_count": null,
   "metadata": {},
   "outputs": [],
   "source": [
    "#4.同时打乱 x,y，保证数据和标签的对应关系\n",
    "# your code\n",
    "# you may need import some package\n",
    "x = ['快递太慢了！','不好吃','特别难吃','要齁死我了','很划算','下次还来','味道很不错！','香']\n",
    "y = ['差评','差评','差评','差评','好评','好评','好评','好评']\n",
    "\n",
    "from random import *\n",
    "import numpy as np\n",
    "\n",
    "def shuffle(x,y):\n",
    "    # your code here\n",
    "    new_list=[]\n",
    "    for i in range(len(x)):\n",
    "        new_list.append(randint(1,len(x)+1))    #利用randint函数产生随机数列\n",
    "    new_list_order=np.argsort(new_list)         #利用argsort函数返回随机数列的顺序数列\n",
    "    x_new = []\n",
    "    y_new = []\n",
    "    for i in range(len(x)):\n",
    "        x_new.append(x[new_list_order[i]])      #利用顺序数列对应的元素值即x数列的下标，再使用x_new接收新数列\n",
    "        y_new.append(y[new_list_order[i]])      #同上\n",
    "    x = x_new\n",
    "    y = y_new\n",
    "    return x,y\n",
    "\n",
    "x,y = shuffle(x,y)                             #调用shuffle函数\n",
    "# print result for certify\n",
    "for i,j in zip(x,y):\n",
    "    print(i,':',j)    "
   ]
  },
  {
   "cell_type": "code",
   "execution_count": null,
   "metadata": {},
   "outputs": [],
   "source": [
    "#5.使用函数，统计每个单词的出现次数，返回字典(查阅资料导入已完成此功能的包)\n",
    "\n",
    "# your code\n",
    "#import numpy as np # which package ? (you can change to from ? import ?)\n",
    "\n",
    "def count_words(text):\n",
    "    text_list = text.split()                    #获取text的单词数列\n",
    "    text_word = list(set(text_list))            #去重，获得唯一单词的数列\n",
    "    text_count = list(range(len(text_word)))    #构造单词统计数列\n",
    "    text_len = len(text_list)                   #text单词数列长度\n",
    "    text_word_len = len(text_word)              #text单词去重后的长度\n",
    "    for i in range(text_word_len):\n",
    "        text_count[i] = 0                       #初始化单词统计数列\n",
    "    for i in range(text_len):\n",
    "        for j in range(text_word_len):\n",
    "            if text_word[j] == text_list[i]:\n",
    "                text_count[j]+=1                #对text进行遍历，发现某单词与去重单词数列的单词相等，则该词的统计数加1\n",
    "    return dict(zip(text_word, text_count))\n",
    "    \n",
    "    # return dict\n",
    "    \n",
    "\n",
    "# test \n",
    "text = '2019 年 十月 一日 上午 ， 庆祝 中华人民共和国 成立 70 周年 阅兵式 在 首都北京 盛大举行 ， 59 个 阅兵 方阵 ， 580 台受 阅 装备 ， 1.5 万人 的 参阅 队伍 接受 了 全国 人民 的 检阅 。 阅兵 装备 方队 展示 的 武器装备 皆 为 国产 现役 主战 装备 ， 40% 为 首次 展示 。 其中 近些年来 广受 全球 关注 的 东风 41 洲际 弹道导弹 ， 巨浪 二潜射 弹道导弹 ， 东风 17 高超音速 武器 系统 终于 揭幕 亮剑 ， 以 \" 不怒 自威 \" 的 形象 向 世界 展示 中国 捍卫 和平 的 意志 与 力量 。 相较 于 其他 首度 公开 亮相 的 武器装备 ， 这 三款 武器 多年 来 传闻 不断 ， 备受 关注 ， 并 因 其 \" 大国 基石 \" 的 地位 而 被 公众 赋予 特殊 的 期待 ， 这 三款 武器装备 实力 究竟 如何 ， 又 各自 承担 着 怎样 的 历史 \" 使命 \" 呢 ？ 本报 特约 相关 领域 军事 专家 ， 为 大家 详细 解读 这 三款 彰显 国威 ， 震撼 世界 的 国 之 重器 。'\n",
    "print(count_words(text))\n",
    "    "
   ]
  },
  {
   "cell_type": "code",
   "execution_count": null,
   "metadata": {},
   "outputs": [],
   "source": [
    "#5.使用函数，统计每个单词的出现次数，返回字典(查阅资料导入已完成此功能的包)\n",
    "\n",
    "# your code\n",
    "import collections  # which package ? (you can change to from ? import ?)\n",
    "\n",
    "def count_words(text):\n",
    "    text_list = text.split()                                 #获取text的单词数列\n",
    "    temp_text = collections.Counter(text_list).most_common() #利用collections方法直接获得单词即对应统计数\n",
    "    #return dict(zip(text_word, text_count))\n",
    "    return dict(temp_text)\n",
    "    # return dict\n",
    "    \n",
    "# test \n",
    "text = '2019 年 十月 一日 上午 ， 庆祝 中华人民共和国 成立 70 周年 阅兵式 在 首都北京 盛大举行 ， 59 个 阅兵 方阵 ， 580 台受 阅 装备 ， 1.5 万人 的 参阅 队伍 接受 了 全国 人民 的 检阅 。 阅兵 装备 方队 展示 的 武器装备 皆 为 国产 现役 主战 装备 ， 40% 为 首次 展示 。 其中 近些年来 广受 全球 关注 的 东风 41 洲际 弹道导弹 ， 巨浪 二潜射 弹道导弹 ， 东风 17 高超音速 武器 系统 终于 揭幕 亮剑 ， 以 \" 不怒 自威 \" 的 形象 向 世界 展示 中国 捍卫 和平 的 意志 与 力量 。 相较 于 其他 首度 公开 亮相 的 武器装备 ， 这 三款 武器 多年 来 传闻 不断 ， 备受 关注 ， 并 因 其 \" 大国 基石 \" 的 地位 而 被 公众 赋予 特殊 的 期待 ， 这 三款 武器装备 实力 究竟 如何 ， 又 各自 承担 着 怎样 的 历史 \" 使命 \" 呢 ？ 本报 特约 相关 领域 军事 专家 ， 为 大家 详细 解读 这 三款 彰显 国威 ， 震撼 世界 的 国 之 重器 。'\n",
    "print(count_words(text))"
   ]
  },
  {
   "cell_type": "code",
   "execution_count": null,
   "metadata": {},
   "outputs": [],
   "source": []
  },
  {
   "cell_type": "code",
   "execution_count": null,
   "metadata": {},
   "outputs": [],
   "source": []
  }
 ],
 "metadata": {
  "kernelspec": {
   "display_name": "Python 3",
   "language": "python",
   "name": "python3"
  },
  "language_info": {
   "codemirror_mode": {
    "name": "ipython",
    "version": 3
   },
   "file_extension": ".py",
   "mimetype": "text/x-python",
   "name": "python",
   "nbconvert_exporter": "python",
   "pygments_lexer": "ipython3",
   "version": "3.7.4"
  }
 },
 "nbformat": 4,
 "nbformat_minor": 2
}
