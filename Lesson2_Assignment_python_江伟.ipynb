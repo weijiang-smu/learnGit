{
 "cells": [
  {
   "cell_type": "code",
   "execution_count": null,
   "metadata": {},
   "outputs": [],
   "source": [
    "#一周记账\n",
    "income = list(range(0,8))\n",
    "outcome = list(range(0,8))\n",
    "weekday = ['MON','TUE','WEN','THU','FRI','SAT','SUN']\n",
    "i=1\n",
    "while i < 8:\n",
    "    print('Please Eter your {0} income'.format(weekday[i-1]))  \n",
    "    income[i-1]=int(input())\n",
    "    i+=1\n",
    "i=1\n",
    "while i < 8:\n",
    "    print('Please Eter your {0} outcome'.format(weekday[i-1]))  \n",
    "    outcome[i-1]=int(input())\n",
    "    i+=1\n",
    "cashSuplus=[income[i]-outcome[i] for i in range(0,len(income))]\n",
    "print('Your daily cash suplus last week is: ',dict(zip(weekday,cashSuplus)))\n",
    "totalCashSuplus=0\n",
    "for i in range(0,7):\n",
    "    totalCashSuplus=totalCashSuplus+cashSuplus[i]\n",
    "print('Your last week total cash suplus is: {0}'.format(totalCashSuplus) )"
   ]
  },
  {
   "cell_type": "code",
   "execution_count": null,
   "metadata": {},
   "outputs": [],
   "source": [
    "#ATM实现\n",
    "account_suplus = 1000 \n",
    "print('提示：\\n查询余额，请输入1\\n存款，请输入2\\n取款，请输入3\\n退出，请输入4') \n",
    "s=input()\n",
    "while s: \n",
    "    if int(s)==1:\n",
    "        print('您当前账户余额为：{0}，继续操作请输入指定信息，退出请输入4'.format(account_suplus))\n",
    "    elif int(s)==2:\n",
    "        print('请输入您需要存入的金额')\n",
    "        cash=input()\n",
    "        account_suplus = account_suplus + int(cash)\n",
    "        print('您此次存入金额为：{0}，继续操作请输入指定信息，退出请输入4'.format(cash))\n",
    "    elif int(s)==3:\n",
    "        print('请输入您的取款金额')\n",
    "        cash=input()\n",
    "        account_suplus = account_suplus - int(cash)\n",
    "        print('您此次取款金额为：{0}，继续操作请输入指定信息，退出请输入4'.format(cash))\n",
    "    elif int(s)==4:\n",
    "        print('再见，欢迎下次再来')\n",
    "        break\n",
    "    else:\n",
    "        break\n",
    "    s=input()\n",
    "print('您未输入指定，为确保信息安全，系统已自动退出，谢谢')"
   ]
  },
  {
   "cell_type": "code",
   "execution_count": null,
   "metadata": {},
   "outputs": [],
   "source": [
    "#词汇表生产及统计\n",
    "print('请输入需要统计单词的文本')\n",
    "text = input()\n",
    "vocab=text.split()\n",
    "word2id=dict(zip(vocab,[i for i in range(0,len(vocab))]))\n",
    "id2word=dict(zip([i for i in range(0,len(vocab))],vocab))"
   ]
  },
  {
   "cell_type": "code",
   "execution_count": null,
   "metadata": {},
   "outputs": [],
   "source": []
  }
 ],
 "metadata": {
  "kernelspec": {
   "display_name": "Python 3",
   "language": "python",
   "name": "python3"
  },
  "language_info": {
   "codemirror_mode": {
    "name": "ipython",
    "version": 3
   },
   "file_extension": ".py",
   "mimetype": "text/x-python",
   "name": "python",
   "nbconvert_exporter": "python",
   "pygments_lexer": "ipython3",
   "version": "3.7.4"
  }
 },
 "nbformat": 4,
 "nbformat_minor": 2
}
