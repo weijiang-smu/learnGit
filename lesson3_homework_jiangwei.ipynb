{
 "cells": [
  {
   "cell_type": "code",
   "execution_count": null,
   "metadata": {},
   "outputs": [],
   "source": [
    "import requests\n",
    "from bs4 import BeautifulSoup\n",
    "\n",
    "def build_url(city_coding, year=None, month=None):\n",
    "    \"\"\"\n",
    "    创建网页链接\n",
    "    paramters:\n",
    "        city_coding: 城市名称(英文)\n",
    "        year: 年份\n",
    "        month: 月份\n",
    "    return:\n",
    "        url: 可访问的链接\n",
    "    \"\"\"\n",
    "    BASE = 'http://www.tianqihoubao.com/aqi/'\n",
    "    city_base_url = BASE + '{}.html'\n",
    "    city_date_base_url = BASE + '{}-{}{}.html'\n",
    "    \n",
    "    if year is not None and month is not None:\n",
    "        month = str(month) if month >= 10 else '0' + str(month)\n",
    "        return city_date_base_url.format(city_coding, year, month)\n",
    "    else:\n",
    "        return city_base_url.format(city_coding)\n",
    "\n",
    "\n",
    "def parse(url, city_name):\n",
    "    \"\"\"\n",
    "    抓取网页信息\n",
    "    parameters:\n",
    "        url: 需要抓取的网页链接\n",
    "        city_name: 城市名称(用于数据标识)\n",
    "    returns:\n",
    "        result: 抓取的信息\n",
    "    \"\"\"\n",
    "    response = requests.get(url)\n",
    "    if response.ok:\n",
    "        html = response.text\n",
    "        \n",
    "        soup = BeautifulSoup(html)\n",
    "        data_table = soup.table\n",
    "        \n",
    "        content = data_table.contents\n",
    "        \n",
    "        result = []\n",
    "        for index, c in enumerate(content[1::2]):\n",
    "                if index == 0:\n",
    "                    result.append(tuple(['城市'] + c.text.split()))\n",
    "                else:\n",
    "                    result.append(tuple([city_name] + c.text.split()))\n",
    "        return result\n",
    "    \n",
    "    else:\n",
    "        if response.status_code == 403:\n",
    "            print('403 Forbidden! 抓取太快你被拉黑啦~')"
   ]
  },
  {
   "cell_type": "code",
   "execution_count": null,
   "metadata": {},
   "outputs": [],
   "source": [
    "#第一题答案：\n",
    "all_data = [] \n",
    "for i in range(12):\n",
    "    #直接使用函数嵌套，build_url返回指定网址作为参数之间传递给parse函数，利用for循环即可取出1-12月的数据\n",
    "    all_data.append(parse(build_url('hangzhou',2019,i+1),'hangzhou'))  \n",
    "print(all_data)"
   ]
  },
  {
   "cell_type": "code",
   "execution_count": null,
   "metadata": {},
   "outputs": [],
   "source": [
    "#3.2实现print_string 函数\n",
    "#定义一个函数print_string，返回一个字符串。\n",
    "#print_string函数支持输入多个参数，每个参数间使用参数sep(默认一个空格)的字符进行连接，并且最后还要添加一个end(默认一个换行)参数的字符。\n",
    "#比如\n",
    "#print_string('This is a test') 返回This is a test\\n \n",
    "#print_string('This', 'is', 'a', 'test') 返回This is a test\\n\n",
    "#print_string('This', 'is', 'a', 'test', sep = '-') 返回This-is-a-test\\n\n",
    "#print_string('This', 'is', 'a', 'test', ',', 'Yes', sep = '_', end = '.') 返回This_is_a_test_,_Yes.\n",
    "\n",
    "#答案：\n",
    "def print_string(*arg,sep=' ',end = '\\n'):\n",
    "    s=''\n",
    "    for aa in arg:  #对*参进行循环，并对每个输入参数使用默认参数sep进行分隔\n",
    "        s+=aa+sep\n",
    "    s=s[:-1]+end    #替换字符串最后一个分隔参数为结束参数end。\n",
    "    return s\n",
    "\n",
    "print_string('This is a test')\n",
    "print_string('This', 'is', 'a', 'test')\n",
    "print_string('This', 'is', 'a', 'test', sep = '-')\n",
    "print_string('This', 'is', 'a', 'test', ',', 'Yes', sep = '_', end = '.') "
   ]
  },
  {
   "cell_type": "code",
   "execution_count": null,
   "metadata": {},
   "outputs": [],
   "source": [
    "#打印斐波拉契数列\n",
    "#给定一个数值n，将前n项的波那契数列打印出来\n",
    "def Fibonacci_seq(n):\n",
    "    s=list(range(n))             #构造一个长度为参数a的数列\n",
    "    if n<=2:                     #判断数列长度a，若小于等于二，则数列每项的值取1\n",
    "        for i in range(n):\n",
    "            s[i]=1 \n",
    "    else:\n",
    "        s[0]=1\n",
    "        s[1]=1\n",
    "        for i in range(2,n):    #从第三项开始，利用递推公式s(n)=s(n-1)+s(n-2)推导s(n)的值\n",
    "            s[i]=s[i-1]+s[i-2]        \n",
    "    print(s)\n",
    "Fibonacci_seq(6)"
   ]
  },
  {
   "cell_type": "code",
   "execution_count": null,
   "metadata": {},
   "outputs": [],
   "source": []
  }
 ],
 "metadata": {
  "kernelspec": {
   "display_name": "Python 3",
   "language": "python",
   "name": "python3"
  },
  "language_info": {
   "codemirror_mode": {
    "name": "ipython",
    "version": 3
   },
   "file_extension": ".py",
   "mimetype": "text/x-python",
   "name": "python",
   "nbconvert_exporter": "python",
   "pygments_lexer": "ipython3",
   "version": "3.7.4"
  }
 },
 "nbformat": 4,
 "nbformat_minor": 2
}
