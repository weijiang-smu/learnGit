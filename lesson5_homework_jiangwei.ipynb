{
 "cells": [
  {
   "cell_type": "code",
   "execution_count": null,
   "metadata": {},
   "outputs": [],
   "source": [
    "#角色建立考虑到角色的共性和特性，将所有角色的基本共性（包括name, damage, hp）集合到People 类中，作为所有角色的父类\n",
    "class People:\n",
    "    def __init__(self, name, damage, hp):\n",
    "        self.name=name\n",
    "        self.damage=damage\n",
    "        self.hp=hp\n",
    "        "
   ]
  },
  {
   "cell_type": "code",
   "execution_count": null,
   "metadata": {},
   "outputs": [],
   "source": [
    "#针对不同阵营的英雄，在继承People类的基础上添加country属性。同时，建立了显示实例基本信息的方法 get_inf 和攻击其他实例的方法 attack。\n",
    "class Hero(People):\n",
    "    def __init__(self, name, damage, hp, country):\n",
    "        People.__init__(self, name, damage, hp)\n",
    "        self.country=country   \n",
    "        \n",
    "    def get_inf(self):\n",
    "        print(\"姓名：{}\".format(self.name))\n",
    "        print(\"攻击力：{}\".format(self.damage))\n",
    "        print(\"当前血量：{}\".format(self.hp))\n",
    "        print(\"阵营：{}\".format(self.country))\n",
    "\n",
    "    def attack(self,enemy):\n",
    "        print(self.name)\n",
    "        print(\"攻击力为：{}\".format(self.damage))\n",
    "        print(\"{}目前血量为：{}\".format(enemy.name, enemy.hp))\n",
    "        print(\"{}攻击{}\".format(self.name,enemy.name))\n",
    "        enemy.hp-=self.damage\n",
    "        print(\"{}剩余血量为：{}\".format(enemy.name, enemy.hp))\n",
    "        print(\"***********************************\")"
   ]
  },
  {
   "cell_type": "code",
   "execution_count": null,
   "metadata": {},
   "outputs": [],
   "source": [
    "#接下来，我们尝试创建People 的实例 XB 和 Hero 类实例 LB 和 ZF。 \n",
    "XB = People(\"小兵\", 1, 10)\n",
    "LB=Hero(\"吕布\", 20, 100, \"群雄\")\n",
    "ZF=Hero(\"张飞\", 7, 80, \"蜀国\")"
   ]
  },
  {
   "cell_type": "code",
   "execution_count": null,
   "metadata": {},
   "outputs": [],
   "source": [
    "#实例创建完成之后，我们调用Hero 类中的方法 get_ing 查看实例 ZF 的基本信息。 请同学们思考实例 XB 能否调用该方法，为什么？\n",
    "\n",
    "#答： 不能直接调用。子类可用继承/改写/调用父类的方法，单父类不能调用子类中父类未定义的方法。\n",
    "#     get_inf是hero类（子类）的方法，未在父类People定义的方法，故XB不能调用子类方法。\n",
    "\n",
    "ZF.get_inf()"
   ]
  },
  {
   "cell_type": "code",
   "execution_count": null,
   "metadata": {},
   "outputs": [],
   "source": [
    "ZF.attack(LB)"
   ]
  },
  {
   "cell_type": "code",
   "execution_count": null,
   "metadata": {},
   "outputs": [],
   "source": [
    "#练习1\n",
    "#这部分需要同学们新建一个武器类,同时能够将武器赋予某个实例，用以提升攻击力。\n",
    "\n",
    "#属性：武器名称、武器伤害值\n",
    "\n",
    "#方法：把武器给予某位英雄，赠予后该英雄攻击力为基础攻击力加武器伤害值\n",
    "class Weapon:\n",
    "    def __init__(self, name, damage):\n",
    "        \"\"\"武器基础属性\"\"\"\n",
    "        # Please code here\n",
    "        self.name = name\n",
    "        self.damage = damage\n",
    "\n",
    "    def take_weapon(self, hro):\n",
    "        \"\"\"将武器给予英雄，英雄攻击力提升\"\"\"\n",
    "        print(\"将武器{}装备给英雄{}\".format(self.name, hro.name))\n",
    "        hro.damage+=self.damage\n",
    "        print(\"{}的攻击力变为{}\".format(hro.name, hro.damage))"
   ]
  },
  {
   "cell_type": "code",
   "execution_count": null,
   "metadata": {},
   "outputs": [],
   "source": [
    "#练习2\n",
    "#新建武器实例,其中包含属性：名称（丈八蛇矛）、伤害值（3）\n",
    "#将武器赠与张飞\n",
    "BN=Weapon(\"丈八蛇矛\", 3)\n",
    "BN.take_weapon(ZF)\n"
   ]
  },
  {
   "cell_type": "code",
   "execution_count": null,
   "metadata": {},
   "outputs": [],
   "source": [
    "#练习3\n",
    "#显示“ZF”目前信息\n",
    "#令“ZF”攻击“LB”\n",
    "ZF.get_inf()"
   ]
  },
  {
   "cell_type": "code",
   "execution_count": null,
   "metadata": {},
   "outputs": [],
   "source": [
    "ZF.attack(LB)"
   ]
  },
  {
   "cell_type": "code",
   "execution_count": null,
   "metadata": {
    "scrolled": false
   },
   "outputs": [],
   "source": [
    "#提升练习 --“群英战吕布”\n",
    "#框架： 建立群英（多个hero实例）及吕布实例（属性值设置合理） 让一个英雄（英雄1）与吕布持续战斗，\n",
    "#当英雄1血量小于吕布攻击时，英雄1失败逃跑 英雄1回复血量，同时加入英雄2，与吕布持续战斗，当。。。。 持续添加英雄，直到吕布逃跑\n",
    "\n",
    "# 补充完善本代码块（实现指定功能即可）\n",
    "LB=Hero(\"吕布\", 20, 100, \"群雄\")\n",
    "ZF=Hero(\"张飞\", 7, 80, \"蜀国\")\n",
    "i = 0\n",
    "heros = {'ZF':ZF}\n",
    "\n",
    "while LB.hp > 7:\n",
    "    i += 1\n",
    "    \n",
    "    # 吕布血量100，攻击20，每次受攻击消耗7 hp，即可以接受攻击100/7 == 14回合；\n",
    "    # 假设每个英雄的攻击7，血量80，均可以接受吕布4轮攻击；\n",
    "    # 根据假设，hero1 n轮* 4 + hero2(n-1)轮*4 + hero（n-2)轮*4 ==>得到次数等于14\n",
    "    # 解上面方程可得n大于2，小于3；仔细算可得，2轮大战即hero1 2*4 + hero2 1* 4 = 12次，第3轮攻击2次即14次攻击完成\n",
    "    # 即最后第三轮攻击发起时，hero1和hero2各攻击1次，吕布将逃跑\n",
    "    if i <= 4:    # 第一轮攻击\n",
    "        if i == 1 :  #轮次开始提示\n",
    "            print(\"第一轮开始：hero1开始大战吕布\")\n",
    "        print(\"第一轮第{}回合战斗开始\".format(i))   #轮次内部回合提示\n",
    "        new_hero = Hero(\"hero\"+str(1), 7, 80, \"反吕联盟\")        \n",
    "        new_hero.attack(LB)\n",
    "        LB.attack(new_hero)\n",
    "    elif i<= 8:   # 第二轮攻击\n",
    "        if i == 5:  #轮次开始提示\n",
    "            print(\"第二轮开始：hero1满血恢复，hero2加入战斗\")\n",
    "        print(\"第二轮第{}回合战斗开始\".format(i-4))   #轮次内部回合提示\n",
    "        new_hero = Hero(\"hero\"+str(1), 7, 80, \"反吕联盟\")\n",
    "        new_hero1 = Hero(\"hero\"+str(2), 7, 80, \"反吕联盟\")        \n",
    "        new_hero.attack(LB)        \n",
    "        LB.attack(new_hero)\n",
    "        new_hero1.attack(LB)\n",
    "    else:         # 第三轮攻击\n",
    "        if i == 9:  #轮次开始提示\n",
    "            print(\"第三轮开始：hero1和hero2满血恢复，hero3加入战斗\")\n",
    "        print(\"第三轮第{}回合战斗开始\".format(i-8))   #轮次内部回合提示\n",
    "        new_hero = Hero(\"hero\"+str(1), 7, 80, \"反吕联盟\")\n",
    "        new_hero1 = Hero(\"hero\"+str(2), 7, 80, \"反吕联盟\")\n",
    "        new_hero2 = Hero(\"hero\"+str(3), 7, 80, \"反吕联盟\")        \n",
    "        new_hero.attack(LB)        \n",
    "        LB.attack(new_hero)\n",
    "        new_hero1.attack(LB)\n",
    "        print(\"吕布血量还剩{}无法承受hero3的攻击，逃跑了。。。\".format(LB.hp))\n",
    "        #new_hero2.attack(LB)\n"
   ]
  },
  {
   "cell_type": "code",
   "execution_count": null,
   "metadata": {},
   "outputs": [],
   "source": []
  }
 ],
 "metadata": {
  "kernelspec": {
   "display_name": "Python 3",
   "language": "python",
   "name": "python3"
  },
  "language_info": {
   "codemirror_mode": {
    "name": "ipython",
    "version": 3
   },
   "file_extension": ".py",
   "mimetype": "text/x-python",
   "name": "python",
   "nbconvert_exporter": "python",
   "pygments_lexer": "ipython3",
   "version": "3.7.4"
  }
 },
 "nbformat": 4,
 "nbformat_minor": 2
}
